{
 "cells": [
  {
   "cell_type": "code",
   "execution_count": 7,
   "id": "f9cd89df",
   "metadata": {},
   "outputs": [],
   "source": [
    "import json\n",
    "import os\n",
    "import re\n"
   ]
  },
  {
   "cell_type": "code",
   "execution_count": 8,
   "id": "0246a9a8",
   "metadata": {},
   "outputs": [],
   "source": [
    "def rule(x):\n",
    "    # 괄호\n",
    "    a = re.compile(r'\\([^)]*\\)')\n",
    "    # 문장 부호\n",
    "    b = re.compile('[^가-힣0-9 ]')\n",
    "    x = re.sub(pattern=a, repl='', string= x)\n",
    "    x = re.sub(pattern=b, repl='', string= x)\n",
    "    return x"
   ]
  },
  {
   "cell_type": "code",
   "execution_count": 9,
   "id": "11b2a5db",
   "metadata": {},
   "outputs": [],
   "source": [
    "cnt = 0\n",
    "for audio_path, y in zip(os.listdir(\"D:\\코드\\[train] 음성데이터_wav\"), os.listdir(\"D:\\코드\\[train] 메타데이터_json\")):\n",
    "    cnt +=1\n",
    "    # if cnt == 100:\n",
    "    #     break\n",
    "    try: \n",
    "        with open(\"D:\\코드\\[train] 메타데이터_json\" + \"/\" + y, 'r', encoding='UTF-8') as f:\n",
    "            json_data = json.load(f)\n",
    "            reading = json.dumps(json_data[\"transcription\"][\"ReadingLabelText\"], ensure_ascii = False)\n",
    "        reading = rule(reading)\n",
    "        with open(\"D:\\코드/train.txt\", \"a\") as f:\n",
    "            f.write('{0}\\n'.format(audio_path))\n",
    "        # with open(\"D:\\코드/train.txt\", \"a\") as f:\n",
    "        #     f.write('{0}\\t{1}\\n'.format(audio_path, reading))\n",
    "\n",
    "    except:\n",
    "        with open(\"D:\\코드/train.txt\", \"a\") as f:\n",
    "            f.write(\"------error    error--------\\n\")\n",
    "    print(cnt == 300000)"
   ]
  }
 ],
 "metadata": {
  "kernelspec": {
   "display_name": "Python 3 (ipykernel)",
   "language": "python",
   "name": "python3"
  },
  "language_info": {
   "codemirror_mode": {
    "name": "ipython",
    "version": 3
   },
   "file_extension": ".py",
   "mimetype": "text/x-python",
   "name": "python",
   "nbconvert_exporter": "python",
   "pygments_lexer": "ipython3",
   "version": "3.8.12"
  },
  "toc": {
   "base_numbering": 1,
   "nav_menu": {},
   "number_sections": true,
   "sideBar": true,
   "skip_h1_title": false,
   "title_cell": "Table of Contents",
   "title_sidebar": "Contents",
   "toc_cell": false,
   "toc_position": {},
   "toc_section_display": true,
   "toc_window_display": false
  }
 },
 "nbformat": 4,
 "nbformat_minor": 5
}
