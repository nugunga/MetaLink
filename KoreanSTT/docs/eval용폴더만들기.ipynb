{
 "cells": [
  {
   "cell_type": "code",
   "execution_count": 6,
   "id": "9a0ff898",
   "metadata": {},
   "outputs": [],
   "source": [
    "import shutil\n",
    "import os\n",
    "from random import sample\n",
    "import random\n",
    "import json\n",
    "import re\n",
    "import pandas as pd\n",
    "\n",
    "\n",
    "path_train = \"D:/code/train wav\"\n",
    "path_meta = \"D:/code/metadata\"\n",
    "\n",
    "train = os.listdir(path_train)\n",
    "meta = os.listdir(path_meta)\n",
    "labels_dest = \"D:/code/kospeech-latest/dataset/kspon\"\n",
    "\n",
    "def rule(x):\n",
    "    # 괄호\n",
    "    a = re.compile(r'\\([^)]*\\)')\n",
    "    # 문장 부호\n",
    "    b = re.compile('[^가-힣0-9 ]')\n",
    "    x = re.sub(pattern=a, repl='', string= x)\n",
    "    x = re.sub(pattern=b, repl='', string= x)\n",
    "    return x\n",
    "\n",
    "def load_label(filepath):\n",
    "    char2id = dict()\n",
    "    id2char = dict()\n",
    "\n",
    "    ch_labels = pd.read_csv(filepath, encoding=\"utf-8\")\n",
    "\n",
    "    id_list = ch_labels[\"id\"]\n",
    "    char_list = ch_labels[\"char\"]\n",
    "    freq_list = ch_labels[\"freq\"]\n",
    "\n",
    "    for (id_, char, freq) in zip(id_list, char_list, freq_list):\n",
    "        char2id[char] = id_\n",
    "        id2char[id_] = char\n",
    "    return char2id, id2char\n",
    "\n",
    "char2id, id2char = load_label(os.path.join(labels_dest, \"cssiri_character_vocabs.csv\"))\n",
    "\n",
    "def sentence_to_target(sentence, char2id):\n",
    "    target = str()\n",
    "\n",
    "    for ch in sentence:\n",
    "        try:\n",
    "            target += (str(char2id[ch]) + ' ')\n",
    "        # 사전에 없는 경우 넘어가라 -> 그냥 묵음처리나 마찬가지.\n",
    "        except KeyError:\n",
    "            continue\n",
    "\n",
    "    return target[:-1]\n",
    "\n",
    "seeds = [777, 55, 555, 5555, 7]\n",
    "for n in range(5):\n",
    "    random.seed(seeds[n])\n",
    "    randints = sorted(sample(range(0,300000),10000))\n",
    "    dst = f'D:/code/sample{n+1}'\n",
    "    if not os.path.isdir(dst):\n",
    "        os.mkdir(dst)\n",
    "    elif os.path.isdir(dst):\n",
    "        shutil.rmtree(dst)\n",
    "        os.mkdir(dst)\n",
    "    if not os.path.isdir(os.path.join(dst, \"audio\")):\n",
    "        os.mkdir(os.path.join(dst, \"audio\"))\n",
    "    for num in randints:\n",
    "        shutil.copy(os.path.join(path_train, train[num]), os.path.join(dst, \"audio\"))\n",
    "        with open(path_meta + \"/\" + meta[num], 'r', encoding='UTF-8') as f:\n",
    "\n",
    "            json_data = json.load(f)\n",
    "            reading = json.dumps(json_data[\"transcription\"][\"ReadingLabelText\"], ensure_ascii = False)\n",
    "            reading = rule(reading)\n",
    "            char_id_transcript = sentence_to_target(reading, char2id)\n",
    "        with open(os.path.join(dst,\"transcripts.txt\"), \"a\") as f:\n",
    "            f.write(f'{train[num]}\\t{reading}\\t{char_id_transcript}\\n')"
   ]
  },
  {
   "cell_type": "code",
   "execution_count": 3,
   "id": "bf08fa49",
   "metadata": {},
   "outputs": [
    {
     "data": {
      "text/plain": [
       "True"
      ]
     },
     "execution_count": 3,
     "metadata": {},
     "output_type": "execute_result"
    }
   ],
   "source": [
    "bool('a')"
   ]
  },
  {
   "cell_type": "code",
   "execution_count": null,
   "id": "4aab5f1d",
   "metadata": {},
   "outputs": [],
   "source": []
  }
 ],
 "metadata": {
  "kernelspec": {
   "display_name": "Python 3 (ipykernel)",
   "language": "python",
   "name": "python3"
  },
  "language_info": {
   "codemirror_mode": {
    "name": "ipython",
    "version": 3
   },
   "file_extension": ".py",
   "mimetype": "text/x-python",
   "name": "python",
   "nbconvert_exporter": "python",
   "pygments_lexer": "ipython3",
   "version": "3.8.12"
  },
  "toc": {
   "base_numbering": 1,
   "nav_menu": {},
   "number_sections": true,
   "sideBar": true,
   "skip_h1_title": false,
   "title_cell": "Table of Contents",
   "title_sidebar": "Contents",
   "toc_cell": false,
   "toc_position": {},
   "toc_section_display": true,
   "toc_window_display": false
  }
 },
 "nbformat": 4,
 "nbformat_minor": 5
}
